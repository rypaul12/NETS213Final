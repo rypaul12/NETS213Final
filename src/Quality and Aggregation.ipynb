{
 "cells": [
  {
   "cell_type": "code",
   "execution_count": 94,
   "metadata": {},
   "outputs": [],
   "source": [
    "import pandas as pd"
   ]
  },
  {
   "cell_type": "code",
   "execution_count": 102,
   "metadata": {},
   "outputs": [],
   "source": [
    "info = pd.read_csv('data/Batch_3600867_batch_results.csv')"
   ]
  },
  {
   "cell_type": "code",
   "execution_count": 96,
   "metadata": {},
   "outputs": [],
   "source": [
    "# Returns dataframe with only the HITS that got the preliminary answer correct\n",
    "def quality_control(df):\n",
    "    df['Answer.currentPM'] = df['Answer.currentPM'].str.lower()\n",
    "    legit_hits = df[df['Answer.currentPM'].str.contains('modi')]\n",
    "    return legit_hits"
   ]
  },
  {
   "cell_type": "code",
   "execution_count": 97,
   "metadata": {},
   "outputs": [],
   "source": [
    "# Returns new dataframe containing information per state: average votes amongst turkers, and average expectation\n",
    "def aggregation(df):\n",
    "    temp = info.groupby('Answer.stateSelect').mean()\n",
    "    temp = temp.reset_index()\n",
    "    new_df = temp[['Answer.stateSelect','Answer.ndp.ndp','Answer.upa.incp', 'Answer.other.other', 'Answer.voteConfidence', 'Answer.ndaPercent','Answer.upaPercent','Answer.otherPercent']]\n",
    "    new_df = new_df.rename(index=str, columns={\"Answer.stateSelect\": \"State\", \"Answer.ndp.ndp\": \"Vote for NDP\", 'Answer.upa.incp':'Vote for UPA', 'Answer.other.other':\"Vote for Other\"})\n",
    "    return new_df\n",
    "\n",
    "\n"
   ]
  },
  {
   "cell_type": "code",
   "execution_count": 98,
   "metadata": {},
   "outputs": [],
   "source": [
    "cleaned = quality_control(info)\n",
    "cleaned.to_csv('Quality Control.csv')"
   ]
  },
  {
   "cell_type": "code",
   "execution_count": 99,
   "metadata": {},
   "outputs": [],
   "source": [
    "agg = aggregation(temp)\n",
    "agg.to_csv('Aggregated.csv')"
   ]
  }
 ],
 "metadata": {
  "kernelspec": {
   "display_name": "Python 3",
   "language": "python",
   "name": "python3"
  },
  "language_info": {
   "codemirror_mode": {
    "name": "ipython",
    "version": 3
   },
   "file_extension": ".py",
   "mimetype": "text/x-python",
   "name": "python",
   "nbconvert_exporter": "python",
   "pygments_lexer": "ipython3",
   "version": "3.7.0"
  }
 },
 "nbformat": 4,
 "nbformat_minor": 2
}
